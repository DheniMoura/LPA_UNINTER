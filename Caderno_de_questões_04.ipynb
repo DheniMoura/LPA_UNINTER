{
  "cells": [
    {
      "cell_type": "markdown",
      "metadata": {
        "id": "view-in-github",
        "colab_type": "text"
      },
      "source": [
        "<a href=\"https://colab.research.google.com/github/DheniMoura/LPA_UNINTER/blob/main/Caderno_de_quest%C3%B5es_04.ipynb\" target=\"_parent\"><img src=\"https://colab.research.google.com/assets/colab-badge.svg\" alt=\"Open In Colab\"/></a>"
      ]
    },
    {
      "cell_type": "markdown",
      "metadata": {
        "id": "WCaQ6Q6rVDeP"
      },
      "source": [
        "#Questão 04\n",
        "Fazer"
      ]
    },
    {
      "cell_type": "markdown",
      "metadata": {
        "id": "CMLMFYiMVIiH"
      },
      "source": [
        "Imagina-se que você está desenvolvendo um software de controle de estoque para uma bicicletaria. Este software deve ter o seguinte menu e opções:\n",
        "1. Cadastrar Peça\n",
        "2. Consultar Peça\n",
        "  * Consultar Todas as Peças\n",
        "  * Consulta Peças por Código\n",
        "  * Consulta Peças por Fabricante\n",
        "  * Retornar \n",
        "3. Remover Peça\n",
        "4. Sair\n",
        "\n",
        "Elabore um programa em Python que:\n",
        "1. Deve-se codificar uma função cadastrarPeca (código) (EXIGÊNCIA 1);\n",
        "  * Essa função recebe como parâmetro um código exclusivo para cada cliente cadastrado (DICA: utilize um contador como parâmetro) \n",
        "  * Dentro da função perguntar o nome da peça;\n",
        "  * Dentro da função perguntar o fabricante da peça;\n",
        "  * Dentro da função perguntar o valor da peça\n",
        "  * Cada peça cadastrada deve ter os seus dados armazenados num DICIONÁRIO (DICA: Conferir material escrito da p. 22 até p24  da AULA 06)\n",
        "2. Deve-se codificar uma função consultarPeca(EXIGÊNCIA 2);\n",
        "  * Dentro da função ter um menu com as seguintes opções:\n",
        "  * Consultar Todas as Peças\n",
        "  * Consultar Peças por Código\n",
        "  * Consultar Peças por Fabricante\n",
        "  * Retornar\n",
        "3. Deve-se codificar uma função chamada removerPeca (EXIGÊNCIA 3);\n",
        "  * Dentro da função perguntar qual o código do produto que se deseja remover do cadastro (da lista de dicionário)\n",
        "4. Colocar um exemplo de SAIDA DO CONSOLE com o cadastro de 3 (ou mais) peças. Sendo que 2 delas do mesmo fabricante – ver figura 1\n",
        "5. Colocar um exemplo de SAIDA DO CONSOLE com a consulta a todas as peças cadastradas – ver figura 2\n",
        "6. Colocar um exemplo de SAIDA DO CONSOLE com uma consulta por código – ver figura 3\n",
        "7. Colocar um exemplo de SAIDA DO CONSOLE com uma consulta por fabricante – ver figura 4\n",
        "8. Colocar um exemplo de SAIDA DO CONSOLE ao remover um cadastro e mostrando depois todos os cadastros– ver figura 5\n"
      ]
    },
    {
      "cell_type": "markdown",
      "source": [
        "##Função MENU PRINCIPAL"
      ],
      "metadata": {
        "id": "SwDoYu6Fa1gT"
      }
    },
    {
      "cell_type": "code",
      "source": [
        "def mainMenu(): #FUNÇÃO MENU PRINCIPAL\n",
        "  print('-' * 6 + 'Menu Principal' + '-' * 6)\n",
        "  print('1 - Cadastrar peças ')\n",
        "  print('2 - Consultar peças ')\n",
        "  print('3 - Remover peças ')\n",
        "  print('4 - Sair ')\n",
        "  print('-' * 26)\n"
      ],
      "metadata": {
        "id": "cJk6Ajh7a46Y"
      },
      "execution_count": 1,
      "outputs": []
    },
    {
      "cell_type": "markdown",
      "metadata": {
        "id": "4XYx8pRvQbQR"
      },
      "source": [
        "##Função cadastrar peça\n",
        "\n",
        "\n",
        "\n"
      ]
    },
    {
      "cell_type": "code",
      "execution_count": null,
      "metadata": {
        "id": "WZp5E80tDV-W"
      },
      "outputs": [],
      "source": [
        "def cadastrarPeca(codigoPeca): #FUNÇÃO DE CADASTRO DE PEÇAS\n",
        "  print('Código da peça: {0:03d}'.format(codigoPeca))\n",
        "  nomePeca = input('Nome da peça: ')\n",
        "  fabricante = input('Fabricante da peça: ')\n",
        "  valor = float(input('Valor da peça R$: '))\n",
        " \n",
        "  peca = {'Codigo':codigoPeca, 'Nome' : nomePeca, 'Fabricante':fabricante, 'Valor':valor} #dicionario\n",
        "  cadastroPeca.append(peca.copy())\n",
        "  \n",
        "  print('Cadastro realizado com sucesso')\n",
        "  mainMenu()\n",
        "  return cadastroPeca"
      ]
    },
    {
      "cell_type": "markdown",
      "metadata": {
        "id": "uAA9WwA-DsVH"
      },
      "source": [
        "##Função consultar peças\n"
      ]
    },
    {
      "cell_type": "code",
      "execution_count": null,
      "metadata": {
        "id": "ysUtysJQDo-v"
      },
      "outputs": [],
      "source": [
        "def consultarPeca(): #FUNÇÃO DE CONSULTA DE PEÇAS\n",
        "  while True:\n",
        "    try:\n",
        "      print('-' * 9 + 'Consulta de Peças' + '-' * 9)\n",
        "      print('1 - Consultar todas as peças ')\n",
        "      print('2 - Consultar peças por Código ')\n",
        "      print('3 - Consultar peças por Fabricante ')\n",
        "      print('4 - Retornar ao menu principal ')\n",
        "      print('-' * 35)\n",
        "      menu2 = int(input('Escolha a opção desejada: '))\n",
        "      if menu2 == 4: #Retornar ao menu principal\n",
        "        print('Vaoltando ao menu principal')\n",
        "        mainMenu()\n",
        "        break\n",
        "    except ValueError:\n",
        "      print('Oops! Número inválido. Tente novamente...')\n",
        "    except:\n",
        "      print('Oops! Algo errado aconteceu...')\n",
        "\n",
        "    if menu2 >= 1 and menu2 <= 3:\n",
        "      if menu2 == 1: #Opção mostrar todas as peças cadastradas\n",
        "        print('Consultar todas as peças')\n",
        "        #print(cadastroPeca)\n",
        "        for a in cadastroPeca:\n",
        "          #print('a: {}'.format(a))\n",
        "          print('.' * 35)\n",
        "          for b, c in a.items():\n",
        "            print('{}: {}'.format(b, c))\n",
        "\n",
        "      if menu2 == 2: #Opção mostrar todas as peças por código\n",
        "        consulta_cod = int(input('Digite o CÓDIGO da peça: '))\n",
        "        tam = len(cadastroPeca)\n",
        "\n",
        "        for peca in range(0,tam):\n",
        "          if consulta_cod == (cadastroPeca[peca]['Codigo']):\n",
        "            for b, c in cadastroPeca[peca].items():\n",
        "              print('{}: {}'.format(b, c))\n",
        "\n",
        "      if menu2 == 3: #Opção mostrar todas as peças por fabricante\n",
        "        consulta_cod = str(input('Digite o FABRICANTE da peça: '))\n",
        "        tam = len(cadastroPeca)\n",
        "\n",
        "        for peca in range(0,tam):\n",
        "          if consulta_cod.upper() == cadastroPeca[peca]['Fabricante'].upper():\n",
        "            print('.' * 35)\n",
        "            for b, c in cadastroPeca[peca].items():  \n",
        "              print('{}: {}'.format(b, c))\n",
        "    else:\n",
        "      print('Opção inválida, escolha novamente ')\n",
        "  "
      ]
    },
    {
      "cell_type": "code",
      "source": [
        "def consultarPeca(): #FUNÇÃO DE CONSULTA DE PEÇAS\n",
        "  while True:\n",
        "    try:\n",
        "      print('-' * 9 + 'Consulta de Peças' + '-' * 9)\n",
        "      print('1 - Consultar todas as peças ')\n",
        "      print('2 - Consultar peças por Código ')\n",
        "      print('3 - Consultar peças por Fabricante ')\n",
        "      print('4 - Retornar ao menu principal ')\n",
        "      print('-' * 35)\n",
        "      menu2 = int(input('Escolha a opção desejada: '))\n",
        "      if menu2 == 4: #Retornar ao menu principal\n",
        "        print('Vaoltando ao menu principal')\n",
        "        mainMenu()\n",
        "        break\n",
        "    except ValueError:\n",
        "      print('Oops! Número inválido. Tente novamente...')\n",
        "    except:\n",
        "      print('Oops! Algo errado aconteceu...')\n",
        " \n",
        "    if menu2 >= 1 and menu2 <= 3:\n",
        "      if menu2 == 1: #Opção mostrar todas as peças cadastradas\n",
        "        print('Consultar todas as peças')\n",
        "        #print(cadastroPeca)\n",
        "        for a in cadastroPeca:\n",
        "          #print('a: {}'.format(a))\n",
        "          print('.' * 35)\n",
        "          for b, c in a.items():\n",
        "            print('{}: {}'.format(b, c))\n",
        " \n",
        "      if menu2 == 2: #Opção mostrar todas as peças por código\n",
        "        consulta_cod = int(input('Digite o CÓDIGO da peça: '))\n",
        "        tam = len(cadastroPeca)\n",
        " \n",
        "        for peca in range(0,tam):\n",
        "          if consulta_cod == (cadastroPeca[peca]['Codigo']):\n",
        "            for b, c in cadastroPeca[peca].items():\n",
        "              print('{}: {}'.format(b, c))\n",
        " \n",
        "      if menu2 == 3: #Opção mostrar todas as peças por fabricante\n",
        "        consulta_cod = str(input('Digite o FABRICANTE da peça: '))\n",
        "        tam = len(cadastroPeca)\n",
        " \n",
        "        for peca in range(0,tam):\n",
        "          if consulta_cod.upper() == cadastroPeca[peca]['Fabricante'].upper():\n",
        "            print('.' * 35)\n",
        "            for b, c in cadastroPeca[peca].items():  \n",
        "              print('{}: {}'.format(b, c))\n",
        "    else:\n",
        "      print('Opção inválida, escolha novamente ')\n",
        " "
      ],
      "metadata": {
        "id": "Rmg9GfwKRBpe"
      },
      "execution_count": null,
      "outputs": []
    },
    {
      "cell_type": "markdown",
      "metadata": {
        "id": "696VtegQSbTg"
      },
      "source": [
        "##Função remover peça\n"
      ]
    },
    {
      "cell_type": "code",
      "execution_count": null,
      "metadata": {
        "id": "7_bX-201Shep"
      },
      "outputs": [],
      "source": [
        "def remover_peca(): #FUNÇÃO DE REMOÇÃO DE PEÇAS\n",
        "  sair = 1\n",
        "  while sair == 1:\n",
        "    remover = int(input('Código da peça a ser removida: '))\n",
        "    tam = len(cadastroPeca)\n",
        "    \n",
        "    for peca in range(0,tam):\n",
        "      if remover == (cadastroPeca[peca]['Codigo']):\n",
        "        for b, c in cadastroPeca[peca].items():\n",
        "          print('{}: {}'.format(b, c)) #Conferir\n",
        "\n",
        "        print('Confirme: ')\n",
        "        print('1 - Cancelar')\n",
        "        print('2 - Excluir')\n",
        "        sair = int(input('Deseja excluir? ')) #Confirmar\n",
        "        if sair == 2:\n",
        "          for peca in range(0,tam):\n",
        "            if remover == (cadastroPeca[peca]['Codigo']):\n",
        "              indice_remover = peca\n",
        "        cadastroPeca.remove(cadastroPeca[indice_remover])\n",
        "        print('Cadastro excluído com sucesso')\n",
        "        mainMenu()\n",
        "        break\n"
      ]
    },
    {
      "cell_type": "markdown",
      "metadata": {
        "id": "hexSIf9Nf6dZ"
      },
      "source": [
        "##Código Menu principal\n",
        "com validação de dados\n",
        "\n",
        "funcionando"
      ]
    },
    {
      "cell_type": "code",
      "execution_count": null,
      "metadata": {
        "colab": {
          "base_uri": "https://localhost:8080/"
        },
        "id": "5tYm0wkcd6Ai",
        "outputId": "6d0296be-9aef-430f-f954-fcdc8c425de2"
      },
      "outputs": [
        {
          "output_type": "stream",
          "name": "stdout",
          "text": [
            "Controle de Estoque de Biciletaria - Nome: Dhenifer Moura RU: 452947\n",
            "------Menu Principal------\n",
            "1 - Cadastrar peças \n",
            "2 - Consultar peças \n",
            "3 - Remover peças \n",
            "4 - Sair \n",
            "--------------------------\n",
            "Escolha a opção desejada: 1\n",
            "-> Cadastro de peça\n",
            "Código da peça: 001\n",
            "Nome da peça: Kit cambio 21v\n",
            "Fabricante da peça: Shimano\n",
            "Valor da peça R$: 300\n",
            "Cadastro realizado com sucesso\n",
            "------Menu Principal------\n",
            "1 - Cadastrar peças \n",
            "2 - Consultar peças \n",
            "3 - Remover peças \n",
            "4 - Sair \n",
            "--------------------------\n",
            "Escolha a opção desejada: 1\n",
            "-> Cadastro de peça\n",
            "Código da peça: 002\n",
            "Nome da peça: Shimano\n",
            "Fabricante da peça: Shimano\n",
            "Valor da peça R$: 2\n",
            "Cadastro realizado com sucesso\n",
            "------Menu Principal------\n",
            "1 - Cadastrar peças \n",
            "2 - Consultar peças \n",
            "3 - Remover peças \n",
            "4 - Sair \n",
            "--------------------------\n",
            "Escolha a opção desejada: 4\n",
            "Encerando...\n"
          ]
        }
      ],
      "source": [
        "# ***PROGRAMA PRINCIPAL***\n",
        "print('Controle de Estoque de Bicicletaria - Nome: Dhenifer Moura RU: 452947')\n",
        "mainMenu()\n",
        "\n",
        "cod_peca = 0\n",
        "cadastroPeca = []\n",
        "while True:\n",
        "  try:\n",
        "    menu = int(input('Escolha a opção desejada: '))\n",
        "    if menu == 4:\n",
        "      print('Encerando...')\n",
        "      break\n",
        "  except ValueError:\n",
        "    print('Oops! Número inválido. Tente novamente...')\n",
        "    continue\n",
        "  except:\n",
        "    print('Oops! Algo errado aconteceu...')\n",
        "    continue\n",
        "\n",
        "  if menu >= 1 and menu <= 3:\n",
        "    if menu == 1:\n",
        "      print('-> Cadastro de peça')\n",
        "      cod_peca += 1\n",
        "      cadastrarPeca(cod_peca)\n",
        "\n",
        "    if menu == 2:\n",
        "      print('-> Condulta de peças')\n",
        "      consultarPeca()\n",
        "\n",
        "    if menu == 3:\n",
        "      print('-> Remoção de peças')\n",
        "      remover_peca()\n",
        "  else:\n",
        "    print('Opção inválida, escolha novamente ')\n",
        "\n",
        "   "
      ]
    }
  ],
  "metadata": {
    "colab": {
      "collapsed_sections": [
        "sIA21USVstoN",
        "n2mXuNCusyr1"
      ],
      "name": "Questão 04 -  Caderno de questões.ipynb",
      "provenance": [],
      "authorship_tag": "ABX9TyM9p9jxhYY9bsfJj5/R9ggt",
      "include_colab_link": true
    },
    "kernelspec": {
      "display_name": "Python 3",
      "name": "python3"
    },
    "language_info": {
      "name": "python"
    }
  },
  "nbformat": 4,
  "nbformat_minor": 0
}