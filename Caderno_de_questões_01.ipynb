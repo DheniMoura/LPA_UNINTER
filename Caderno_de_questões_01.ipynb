{
  "cells": [
    {
      "cell_type": "markdown",
      "metadata": {
        "id": "view-in-github",
        "colab_type": "text"
      },
      "source": [
        "<a href=\"https://colab.research.google.com/github/DheniMoura/LPA_UNINTER/blob/main/Caderno_de_quest%C3%B5es_01.ipynb\" target=\"_parent\"><img src=\"https://colab.research.google.com/assets/colab-badge.svg\" alt=\"Open In Colab\"/></a>"
      ]
    },
    {
      "cell_type": "markdown",
      "metadata": {
        "id": "sIA21USVstoN"
      },
      "source": [
        "#Questão 01\n",
        "Feito"
      ]
    },
    {
      "cell_type": "markdown",
      "metadata": {
        "id": "GCIKAPRrM9C4"
      },
      "source": [
        "Imagina-se que você é um dos programadores responsáveis pela construção de app de vendas para uma determinada empresa X que vende em atacado. Uma das estratégias de vendas dessa empresa X é dar desconto maiores por unidade conforme segue:\n",
        "* Até 9 unidades: 0%\n",
        "* Entre 10 e 99 unidades: 5% na unidade\n",
        "* Entre 100 e 999 unidades: 10% na unidade\n",
        "* Acima de 1000 unidades: 15% na unidade\n",
        ">Elabore um prgrama que:\n",
        "    1. Entre com o valor unitário do produto (Lembrar que número decimal é feito com ponto e não vírgula);\n",
        "    2. Entre com a quantidade desse produto;\n",
        "    3. O programa deve retornar o valor total sem desconto;\n",
        "    4. O programa deve retornar o valor total após o desconto;\n",
        "    5. Deve-se utilizar estruturas if, elif e else (EXIGÊNCIA 1 de 1);\n",
        "    6. Colocar um exemplo de SAIDA DE CONSOLE de compra de mais de 10 und. (para mostrar que o desconto foi aplicado)"
      ]
    },
    {
      "cell_type": "code",
      "execution_count": null,
      "metadata": {
        "colab": {
          "base_uri": "https://localhost:8080/"
        },
        "id": "5NWHD_JyNne8",
        "outputId": "72179d17-83fe-4c11-8cf8-c22ba1730e35"
      },
      "outputs": [
        {
          "name": "stdout",
          "output_type": "stream",
          "text": [
            "App de vendas Atacado - Nome: Dhenifer Moura RU: 452947\n",
            "Digite o valor unitário do produto: R$25\n",
            "Digite a quantidade: (unidades) 50\n",
            "Valor total bruto: R$1250.00\n",
            "Desconto aplicado: 5%\n",
            "Valor unitário final: R$23.75\n",
            "Valor total líquido: R$1187.50\n"
          ]
        }
      ],
      "source": [
        "print('App de vendas Atacado - Nome: Dhenifer Moura RU: 452947')\n",
        "\n",
        "unit = float(input('Digite o valor unitário do produto: R$'))\n",
        "qtd = int(input('Digite a quantidade: (unidades) '))\n",
        "\n",
        "totalBruto = unit * qtd\n",
        "print('Valor total bruto: R${:.2f}'.format(totalBruto))\n",
        "\n",
        "if qtd <= 9:\n",
        "  # print('Desconto aplicado: 0%')\n",
        "  print('Valor unitário final: R${:.2f}'.format(unit))\n",
        "  print('Valor total líquido: R${:.2f}'.format(totalBruto))\n",
        "elif qtd >= 10 and qtd <= 99:\n",
        "  unitDesc = unit * 0.95\n",
        "  totalLiq = totalBruto * 0.95\n",
        "  print('Desconto aplicado: 5%')\n",
        "  print('Valor unitário final: R${:.2f}'.format(unitDesc))\n",
        "  print('Valor total líquido: R${:.2f}'.format(totalLiq))\n",
        "elif qtd >= 100 and qtd <= 999:\n",
        "  unitDesc = unit * 0.9\n",
        "  totalLiq = totalBruto * 0.9\n",
        "  print('Desconto aplicado: 10%')\n",
        "  print('Valor unitário final: R${:.2f}'.format(unitDesc))\n",
        "  print('Valor total líquido: R${:.2f}'.format(totalLiq))\n",
        "elif qtd >= 1000 and qtd <= 9999:\n",
        "  unitDesc = unit * 0.85\n",
        "  totalLiq = totalBruto * 0.85\n",
        "  print('Desconto aplicado: 15%')\n",
        "  print('Valor unitário final: R${:.2f}'.format(unitDesc))\n",
        "  print('Valor total líquido: R${:.2f}'.format(totalLiq))\n"
      ]
    }
  ],
  "metadata": {
    "colab": {
      "collapsed_sections": [
        "sIA21USVstoN",
        "n2mXuNCusyr1"
      ],
      "name": "Cópia de Caderno de questões.ipynb",
      "provenance": [],
      "authorship_tag": "ABX9TyNn5N+/XvugoWnW6R5L9iCs",
      "include_colab_link": true
    },
    "kernelspec": {
      "display_name": "Python 3",
      "name": "python3"
    },
    "language_info": {
      "name": "python"
    }
  },
  "nbformat": 4,
  "nbformat_minor": 0
}