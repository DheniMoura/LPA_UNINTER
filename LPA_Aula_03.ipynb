{
  "nbformat": 4,
  "nbformat_minor": 0,
  "metadata": {
    "colab": {
      "name": "LPA - Aula 03.ipynb",
      "provenance": [],
      "authorship_tag": "ABX9TyPZGzkjuZ6B+sO+Eq5LSlef",
      "include_colab_link": true
    },
    "kernelspec": {
      "name": "python3",
      "display_name": "Python 3"
    },
    "language_info": {
      "name": "python"
    }
  },
  "cells": [
    {
      "cell_type": "markdown",
      "metadata": {
        "id": "view-in-github",
        "colab_type": "text"
      },
      "source": [
        "<a href=\"https://colab.research.google.com/github/DheniMoura/LPA_UNINTER/blob/main/LPA_Aula_03.ipynb\" target=\"_parent\"><img src=\"https://colab.research.google.com/assets/colab-badge.svg\" alt=\"Open In Colab\"/></a>"
      ]
    },
    {
      "cell_type": "markdown",
      "source": [
        "Aula 03 da matéria Lógica de Programação e Algoritmos"
      ],
      "metadata": {
        "id": "7EjWRErW4LX5"
      }
    },
    {
      "cell_type": "markdown",
      "source": [
        "Desenvolva um programa que lê dois valores numéricos inteiros e compara se o primeiro é maior que o segundo, utilizando uma condicional simples. Caso o resultado seja verdadeiro, ele imprime na tela a mensagem informando que o primeiro valor digitado é maior do que o segundo\n"
      ],
      "metadata": {
        "id": "8NOUBQCQLFfx"
      }
    },
    {
      "cell_type": "code",
      "source": [
        "n1 = int(input('Digite um valor inteiro: '))\n",
        "n2 = int(input('Digite outro valor inteiro: '))\n",
        "if (n1 > n2):\n",
        "  print('O primeiro valor é maior que o segundo valor digitado.')\n",
        "elif (n1 < n2):\n",
        "  print('O primeiro valor é menor que o segundo valor digitado.')\n",
        "else:\n",
        "  print('O primeiro e o segundo valor são iguais')\n",
        "  "
      ],
      "metadata": {
        "colab": {
          "base_uri": "https://localhost:8080/"
        },
        "id": "ZGIXwM9gLZ0Q",
        "outputId": "97e86fa7-9e2b-4cdb-ba55-89a1eec4de9e"
      },
      "execution_count": null,
      "outputs": [
        {
          "output_type": "stream",
          "name": "stdout",
          "text": [
            "Digite um valor inteiro: 1\n",
            "Digite outro valor inteiro: 1\n",
            "O primeiro e o segundo valor são iguais\n"
          ]
        }
      ]
    },
    {
      "cell_type": "markdown",
      "source": [
        "Escreva um programa que pergunte um número inteiro e mostre na tela se este número é PAR ou ÍMPAR"
      ],
      "metadata": {
        "id": "0A2iZg4pMtgX"
      }
    },
    {
      "cell_type": "code",
      "source": [
        "n = int(input('Digite um número inteiro: '))\n",
        "if (n % 2 == 0):\n",
        "  print('O número {} é PAR'.format(n))\n",
        "else:\n",
        "  print('O número {} é ÍMPAR'.format(n))\n",
        "  "
      ],
      "metadata": {
        "colab": {
          "base_uri": "https://localhost:8080/"
        },
        "id": "zugXItNTM-ZK",
        "outputId": "c33c3956-5b83-4e05-a004-372355f90a30"
      },
      "execution_count": null,
      "outputs": [
        {
          "output_type": "stream",
          "name": "stdout",
          "text": [
            "Digite um número inteiro: 205398\n",
            "O número 205398 é PAR\n"
          ]
        }
      ]
    },
    {
      "cell_type": "markdown",
      "source": [
        "Um aluno, para passar de ano, precisa aprovado em todas as matérias que está cursando.\n",
        "Assuma que a média para aprovação é a partir de 7, e que o aluno cursa três matérias, somente.\n",
        "Escreva um algoritmo que leia a notal final do aluno em cada matéria e informe na teal se ele passou de ano ou não.\n"
      ],
      "metadata": {
        "id": "ysmoss5iMgya"
      }
    },
    {
      "cell_type": "code",
      "source": [
        "m1 = float(input('Informe a nota da matéria A :'))\n",
        "m2 = float(input('Informe a nota da matéria B :'))\n",
        "m3 = float(input('Informe a nota da matéria C :'))\n",
        "\n",
        "if (m1 >= 7 and m2 >= 7 and m3 >= 7):\n",
        "  print('Aluno aprovado')\n",
        "else:\n",
        "  print('Aluno não passou de ano')"
      ],
      "metadata": {
        "colab": {
          "base_uri": "https://localhost:8080/"
        },
        "id": "oqUXXWt7QmlG",
        "outputId": "a5c5bf72-2cac-48b2-c7ba-4460cfd567bf"
      },
      "execution_count": null,
      "outputs": [
        {
          "output_type": "stream",
          "name": "stdout",
          "text": [
            "Informe a nota da matéria A :8\n",
            "Informe a nota da matéria B :8.5\n",
            "Informe a nota da matéria C :3\n",
            "Aluno não passou de ano\n"
          ]
        }
      ]
    },
    {
      "cell_type": "markdown",
      "source": [
        "Escreva um algoritmo em que o  usuário escolhe se quer comprar maçãs, laranjas ou bananas. Deverá ser apresentado na tela um menu com as opções: 1 para maçã, 2 para laranja e 3 para banana. \n",
        "Após escolhida a fruta, deve-se digitar quantas unidades se quer comprar. O algoritmo deve calcular o preço total a pagar do produto escolhido e mostrá-lo na tela.\n",
        "Considere que uma maçã custa R$2,30, uma laranja custa R$3,60 e uma banana custa R$1,85"
      ],
      "metadata": {
        "id": "hqgMeKkkSM71"
      }
    },
    {
      "cell_type": "code",
      "source": [
        "print('Escolha o produto que deseja comprar: ')\n",
        "print('1: Maçã, R$2,30')\n",
        "print('2: Laranja, R$3,60')\n",
        "print('3: Banana, R$1,85')\n",
        "produto = int(input('Produto escolhido: '))\n",
        "\n",
        "if produto == 1 or produto == 2 or produto == 3:\n",
        " qtd = int(input('Quantidade (unidades): '))\n",
        " if produto == 1:\n",
        "   preco = qtd * 2.3\n",
        "   print('Produto: Maçã')\n",
        "   print('Quantidade: {}'.format(qtd))\n",
        "   print('Total a pagar R$%.2f' % preco)\n",
        " elif produto == 2:\n",
        "   preco = qtd * 3.6\n",
        "   print('Produto: Laranja')\n",
        "   print('Quantidade: {}'.format(qtd))\n",
        "   print('Total a pagar R$%.2f' % preco)\n",
        " elif produto == 3:\n",
        "   preco = qtd * 1.85\n",
        "   print('Produto: Banana')\n",
        "   print('Quantidade: {}'.format(qtd))\n",
        "   print('Total a pagar R$%.2f' % preco)\n",
        "else:\n",
        "  print('Comando inválido')\n"
      ],
      "metadata": {
        "colab": {
          "base_uri": "https://localhost:8080/"
        },
        "id": "ZN2sqSHoS-OM",
        "outputId": "1654e57c-f602-4873-d63d-f9785b0356fe"
      },
      "execution_count": null,
      "outputs": [
        {
          "output_type": "stream",
          "name": "stdout",
          "text": [
            "Escolha o produto que deseja comprar: \n",
            "1: Maçã, R$2,30\n",
            "2: Laranja, R$3,60\n",
            "3: Banana, R$1,85\n",
            "Produto escolhido: 4\n",
            "Comando inválido\n"
          ]
        }
      ]
    },
    {
      "cell_type": "markdown",
      "source": [
        "Escreva um algoritmo que lê um nome e uma idade; Caso o nome digitado seja \"Vinicius\", escreva isso na tela; Caso o usuário digite qualquer outro nome, verifique sua idade. sefor menor que 18 anos, informe que é menor. Se for maior que 100 anos, informe que essa pessoa possivelmente não existe"
      ],
      "metadata": {
        "id": "Ds7bjLExZmU2"
      }
    },
    {
      "cell_type": "code",
      "source": [
        "nome = str(input('Digite o nome: '))\n",
        "idade = int(input('Digite a sua idade: '))\n",
        "\n",
        "if nome.upper() == \"VINICIUS\":\n",
        "  print('Olá, Vinicius, Seja bem vindo de volta!')\n",
        "else:\n",
        "  if idade < 18:\n",
        "    print('Olá, {}, você é menor de idade!'.format(nome))\n",
        "  elif idade > 100:\n",
        "    print('Olá, {}, diferente do Vinicius, você é imortal!'.format(nome))\n",
        "  else:\n",
        "    print('Olá, {}'.format(nome))"
      ],
      "metadata": {
        "colab": {
          "base_uri": "https://localhost:8080/"
        },
        "id": "pghWlSOOaGnZ",
        "outputId": "08943af6-8c71-487d-e501-19ea3698e1b6"
      },
      "execution_count": null,
      "outputs": [
        {
          "output_type": "stream",
          "name": "stdout",
          "text": [
            "Digite o nome: João\n",
            "Digite a sua idade: 101\n",
            "Olá, João, diferente do Vinicius, você é imortal!\n"
          ]
        }
      ]
    },
    {
      "cell_type": "markdown",
      "source": [
        "#Exercício\n",
        "Faça um algoritmo que receba três valores,\n",
        "representando os lados de um triângulo fornecidos pelo usuário. Verifique se os valores formam\n",
        "um triângulo e classifique como:\n",
        "* a) Equilátero (três lados iguais);\n",
        "* b) Isósceles (dois lados iguais);\n",
        "* c) Escaleno (três lados diferentes).\n",
        "\n",
        "> Lembre-se de que, para formar um triangulo, nenhum dos lados pode ser igual a zero e um lado não pode ser maior do que a soma dos outros dois.\n",
        "\n",
        "\n",
        "\n",
        "\n",
        "\n"
      ],
      "metadata": {
        "id": "-5tW-QbJc569"
      }
    },
    {
      "cell_type": "code",
      "source": [
        "l1 = float(input('Digite o valor da lado 1: '))\n",
        "l2 = float(input('Digite o valor da lado 2: '))\n",
        "l3 = float(input('Digite o valor da lado 3: '))\n",
        "\n",
        "if l1 == 0 or l2 == 0 or l3 == 0:\n",
        "  print('Não é possível formar um triângulo, nenhum dos lados pode ser igual a zero')\n",
        "elif l1 > (l2 + l3) or l2 > (l1 + l3) or l3 > (l1 + l2):\n",
        "  print('Não é possível formar um triângulo, um lado não pode ser maior do que a soma dos outros dois')\n",
        "else:\n",
        "  if l1 == l2 == l3:\n",
        "    print('Triângulo tipo Equilátero (três lados iguais)')\n",
        "  elif l1 == l2 or l2 == l3 or l1 == l3:\n",
        "    print('Triângulo tipo Isósceles (dois lados iguais)')\n",
        "  else:\n",
        "    print('Triângulo tipo Escaleno (três lados diferentes)')"
      ],
      "metadata": {
        "colab": {
          "base_uri": "https://localhost:8080/"
        },
        "id": "G9NgM8NYdgOO",
        "outputId": "457e795d-814f-43aa-fd6f-cde61619dc1d"
      },
      "execution_count": null,
      "outputs": [
        {
          "output_type": "stream",
          "name": "stdout",
          "text": [
            "Digite o valor da lado 1: 3\n",
            "Digite o valor da lado 2: 3\n",
            "Digite o valor da lado 3: 5\n",
            "Triângulo tipo Isósceles (dois lados iguais)\n"
          ]
        }
      ]
    },
    {
      "cell_type": "markdown",
      "source": [
        "#Exercício\n",
        "(adaptado de Menezes, p. 83): Escreva um algoritmo que leia dois valores numéricos e que pergunte ao usuário qual operação ele deseja realizar: \n",
        "* adição (+)\n",
        "* subtração (-)\n",
        "* multiplicação (*) \n",
        "* divisão (/)\n",
        "\n",
        ">Exiba na tela o resultado da operação desejada."
      ],
      "metadata": {
        "id": "bPH1pRFidrKb"
      }
    },
    {
      "cell_type": "code",
      "source": [
        "n1 = float(input('Digite o primeiro valor: '))\n",
        "n2 = float(input('Digite o segundo valor: '))\n",
        "print('Escolha qual operação deseja fazer: ')\n",
        "print('1: adição (+)')\n",
        "print('2: subtração (-)')\n",
        "print('3: multiplicação (*)')\n",
        "print('4: divisão (/)')\n",
        "op = int(input('Digite sua escolha: '))\n",
        "\n",
        "if op == 1:\n",
        "  print('{} + {} = {}'.format(n1, n2, (n1 + n2)))\n",
        "elif op == 2:\n",
        "  print('{} - {} = {}'.format(n1, n2, (n1 - n2)))\n",
        "elif op == 3:\n",
        "  print('{} * {} = {}'.format(n1, n2, (n1 * n2)))\n",
        "elif op == 4:\n",
        "  print('{} / {} = {}'.format(n1, n2, (n1 / n2)))\n",
        "else:\n",
        "  print('Comando inválido')"
      ],
      "metadata": {
        "colab": {
          "base_uri": "https://localhost:8080/"
        },
        "id": "O4MZZ858dqUe",
        "outputId": "70a00106-d071-4ec3-dac3-25e5bea22d91"
      },
      "execution_count": null,
      "outputs": [
        {
          "output_type": "stream",
          "name": "stdout",
          "text": [
            "Digite o primeiro valor: 53\n",
            "Digite o segundo valor: 5\n",
            "Escolha qual operação deseja fazer: \n",
            "1: adição\n",
            "2: subtração\n",
            "3: multiplicação\n",
            "4: divisão\n",
            "Digite sua escolha: 4\n",
            "53.0 / 5.0 = 10.6\n"
          ]
        }
      ]
    },
    {
      "cell_type": "markdown",
      "source": [
        "#Exercício\n",
        "Uma loja de departamentos está oferecendo diferentes formas de\n",
        "pagamento, conforme opções listadas a seguir. Faça um algoritmo que leia o valor total de uma\n",
        "compra e calcule o valor do pagamento final de acordo com a opção escolhida.\n",
        "Se a escolha for por pagamento parcelado, calcule também o valor de cada parcela. Ao final, apresente o valor total da compra e o valor das parcelas:\n",
        "* Pagamento à vista – conceder desconto de 5%;\n",
        "* Pagamento em 3x – o valor não sofre alterações;\n",
        "* Pagamento em 5x – acréscimo de 2%;\n",
        "* Pagamento em 10x – acréscimo 8%.\n",
        "\n"
      ],
      "metadata": {
        "id": "-ouuzS0Zd2MZ"
      }
    },
    {
      "cell_type": "code",
      "source": [
        "compra = float(input('Digite o valor total da compra: '))\n",
        "print('Escolha a forma de pagamento: ')\n",
        "print('1: pagamento à vista (5% desconto)')\n",
        "print('2: Parcelado em 3 vezes')\n",
        "print('3: Parcelado em 5 vezes (2% de acréscimo')\n",
        "print('4: Parcelado em 10 vezes (8% de acréscimo')\n",
        "pag = int(input('Qual a forma de pagamento? (1, 2, 3 ou 4)'))\n",
        "\n",
        "if pag == 1:\n",
        "  print('Método escolhido: pagamento à vista')\n",
        "  print('Preço final com 5% de desconto: R${}'.format(compra * 0.95))\n",
        "elif pag == 2:\n",
        "  print('Método escolhido: Parcelado em 3 vezes sem juros')\n",
        "  print('Preço final: R${}'.format(compra))\n",
        "  print('Valor das parecelas: R${}'.format(compra / 3))\n",
        "elif pag == 3:\n",
        "  print('Método escolhido: Parcelado em 5 vezes')\n",
        "  print('Preço final com 2% de acréscimo: R${}'.format(compra * 1.02))\n",
        "  print('Valor das parecelas: R${}'.format((compra * 1.02) / 5))\n",
        "elif pag == 4:\n",
        "  print('Método escolhido: Parcelado em 10 vezes')\n",
        "  print('Preço final com 8% de acréscimo: R${}'.format(compra * 1.08))\n",
        "  print('Valor das parecelas: R${}'.format((compra * 1.08) / 10))"
      ],
      "metadata": {
        "colab": {
          "base_uri": "https://localhost:8080/"
        },
        "id": "nxqo41KNeNnp",
        "outputId": "f768a9d9-4914-4c58-8fa3-e561c3d277a9"
      },
      "execution_count": null,
      "outputs": [
        {
          "output_type": "stream",
          "name": "stdout",
          "text": [
            "Digite o valor total da compra: 100\n",
            "Escolha a forma de pagamento: \n",
            "1: pagamento à vista (5% desconto)\n",
            "2: Parcelado em 3 vezes\n",
            "3: Parcelado em 5 vezes (2% de acréscimo\n",
            "4: Parcelado em 10 vezes (8% de acréscimo\n",
            "Qual a forma de pagamento? (1, 2, 3 ou 4)1\n",
            "Método escolhido: pagamento à vista\n",
            "Preço final com 5% de desconto: R$95.0\n"
          ]
        }
      ]
    },
    {
      "cell_type": "markdown",
      "source": [
        " "
      ],
      "metadata": {
        "id": "vuGrG7vN3Td9"
      }
    }
  ]
}
