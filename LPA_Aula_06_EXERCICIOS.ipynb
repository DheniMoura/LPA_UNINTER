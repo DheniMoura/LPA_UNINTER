{
  "nbformat": 4,
  "nbformat_minor": 0,
  "metadata": {
    "colab": {
      "name": "LPA - Aula 06 EXERCICIOS.ipynb",
      "provenance": [],
      "authorship_tag": "ABX9TyPD28DrImBXFPLp9aPUT70/",
      "include_colab_link": true
    },
    "kernelspec": {
      "name": "python3",
      "display_name": "Python 3"
    },
    "language_info": {
      "name": "python"
    }
  },
  "cells": [
    {
      "cell_type": "markdown",
      "metadata": {
        "id": "view-in-github",
        "colab_type": "text"
      },
      "source": [
        "<a href=\"https://colab.research.google.com/github/DheniMoura/LPA_UNINTER/blob/main/LPA_Aula_06_EXERCICIOS.ipynb\" target=\"_parent\"><img src=\"https://colab.research.google.com/assets/colab-badge.svg\" alt=\"Open In Colab\"/></a>"
      ]
    },
    {
      "cell_type": "markdown",
      "source": [
        "#Exercicio 01\n",
        "Escreva um algoritmo que crie uma tupla com 10 palavras.\n",
        "\n",
        "Encontre dentro dessa tupla as vogais de cada palavra.\n",
        "\n",
        "Faça um print na tel com o nome da palavra e suas respectivas vogais."
      ],
      "metadata": {
        "id": "2IRbmfnaiKsW"
      }
    },
    {
      "cell_type": "code",
      "execution_count": null,
      "metadata": {
        "id": "4P5UBTjcJjWW",
        "colab": {
          "base_uri": "https://localhost:8080/"
        },
        "outputId": "23866c66-30d1-4c9d-ebf7-afc8d006d98a"
      },
      "outputs": [
        {
          "output_type": "stream",
          "name": "stdout",
          "text": [
            "\n",
            "Palavra: MARIO. Vogais: A I O \n",
            "Palavra: LUIGI. Vogais: U I I \n",
            "Palavra: PEACH. Vogais: E A \n",
            "Palavra: YOSHI. Vogais: O I \n",
            "Palavra: BOWSER. Vogais: O E "
          ]
        }
      ],
      "source": [
        "p = ('Mario', 'Luigi', 'Peach', 'Yoshi', 'Bowser')\n",
        "\n",
        "#Encontrando as vogais\n",
        "for palavra in p:\n",
        "  print('\\nPalavra: {}. Vogais: '.format(palavra.upper()), end='')\n",
        "  for letra in palavra:\n",
        "    if letra.lower() in 'aeiou':\n",
        "      print(letra.upper(), end=' ')"
      ]
    },
    {
      "cell_type": "markdown",
      "source": [
        "#Exercicio 02\n",
        "Crie um jogo de pedra, papel ou tesoura\n",
        "(Jokenpô). Você deverá jogar contra o\n",
        "computador. Você irá sempre escolher uma\n",
        "das opções: 1- pedra, 2 – papel, 3 – tesoura\n",
        "\n",
        "O computador irá sempre sortear um número\n",
        "de 1 até 3 para jogar\n",
        "Armazene todos os resultados em uma lista e\n",
        "no final apresente o vencedor\n",
        "Encerre o programa ao digitar zero"
      ],
      "metadata": {
        "id": "bMMGRtsRkXm_"
      }
    },
    {
      "cell_type": "code",
      "source": [
        "import random"
      ],
      "metadata": {
        "id": "kjs8FgzD0FKG"
      },
      "execution_count": null,
      "outputs": []
    },
    {
      "cell_type": "code",
      "source": [
        "def validaInteiro (pergunta, min, max):\n",
        "  x = int(input(pergunta))\n",
        "  while ((x < min) or (x > max)):\n",
        "    x = int(input(pergunta))\n",
        "  return x"
      ],
      "metadata": {
        "id": "VQk-CJS6yMer"
      },
      "execution_count": null,
      "outputs": []
    },
    {
      "cell_type": "code",
      "source": [
        "def vencedor(jogador1, jogador2):\n",
        "  global empate, v1, v2\n",
        "  if jogador1 == 1: #pedra\n",
        "      if jogador2 == 1: #pedra\n",
        "        empate += 1\n",
        "\n",
        "      elif jogador2 == 2: #papel\n",
        "        v2 += 1\n",
        "\n",
        "      elif jogador2 == 3: #tesoura\n",
        "        v1 += 1\n",
        "\n",
        "  elif jogador1 == 2: #papel\n",
        "    if jogador2 == 1: #pedra\n",
        "      v1 += 1\n",
        "\n",
        "    elif jogador2 == 2: #papel\n",
        "      empate += 1\n",
        "\n",
        "    elif jogador2 == 3: #tesoura\n",
        "      v2 += 1\n",
        "\n",
        "  elif jogador1 == 3: #tesoura\n",
        "    if jogador2 == 1: #pedra\n",
        "      v2 += 1\n",
        "\n",
        "    elif jogador2 == 2: #papel\n",
        "      v1 += 1\n",
        "\n",
        "    elif jogador2 == 3: #tesoura\n",
        "      empate += 1\n",
        "  resultados = [v1, v2, empate]\n",
        "  return resultados"
      ],
      "metadata": {
        "id": "wvJbCO1h0yH1"
      },
      "execution_count": null,
      "outputs": []
    },
    {
      "cell_type": "code",
      "source": [
        "\n",
        "\n",
        "print('JOKENPÔ')\n",
        "print('1 - PEDRA')\n",
        "print('2 - PAPEL')\n",
        "print('3 - TESOURA')\n",
        "print('0 - ENCERRAR O JOGO')\n",
        "\n",
        "resultados = []\n",
        "jogadas = []\n",
        "v1 = 0\n",
        "v2 = 0\n",
        "empate = 0\n",
        "\n",
        "while True:\n",
        "  j1 = validaInteiro('Escolha sua jogada: ', 0, 3)\n",
        "  if j1 == 0: #também pode ser    if not j1\n",
        "    break\n",
        "  j2 = random.randint(1,3)\n",
        "  jogadas.append([j1, j2])\n",
        "  resultados = vencedor(j1, j2)\n",
        "\n",
        "  for jogada in jogadas:\n",
        "    for dado in jogada:\n",
        "      print(dado, end=' ')\n",
        "    print('')\n",
        "  \n",
        "\n",
        "\n",
        "print('Número de vitórias do jogador 1: {}'.format(resultados[0]))\n",
        "print('Número de vitórias do jogador 2: {}'.format(resultados[1]))\n",
        "print('Número de empates: {}'.format(resultados[2]))"
      ],
      "metadata": {
        "colab": {
          "base_uri": "https://localhost:8080/"
        },
        "id": "C6hRNnzaxXdS",
        "outputId": "7a4f9af9-dcf4-492b-b66a-c7da17f5dda5"
      },
      "execution_count": null,
      "outputs": [
        {
          "output_type": "stream",
          "name": "stdout",
          "text": [
            "JOKENPÔ\n",
            "1 - PEDRA\n",
            "2 - PAPEL\n",
            "3 - TESOURA\n",
            "0 - ENCERRAR O JOGO\n",
            "Escolha sua jogada: 1\n",
            "[0, 0, 1]\n",
            "1 1 \n",
            "Escolha sua jogada: 2\n",
            "[1, 0, 1]\n",
            "1 1 \n",
            "2 1 \n",
            "Escolha sua jogada: 3\n",
            "[1, 0, 2]\n",
            "1 1 \n",
            "2 1 \n",
            "3 3 \n",
            "Escolha sua jogada: 0\n",
            "Número de vitórias do jogador 1: 1\n",
            "Número de vitórias do jogador 2: 0\n",
            "Número de empates: 2\n"
          ]
        }
      ]
    },
    {
      "cell_type": "markdown",
      "source": [
        "#Exercicio 03\n",
        "Crie um programa para ler o nome, ano de\n",
        "nascimento e sexo de diferentes pessoas\n",
        "\n",
        "Armazene os dados em um dicionário com listas - ok\n",
        "\n",
        "Ao encerrar o cadastro, apresente:\n",
        "* O total de cadastros efetuados\n",
        "* A média das idades das pessoas\n",
        "* Uma lista de mulheres com menos de 30 anos\n",
        "* Uma lista de homens com idade acima da\n",
        "média"
      ],
      "metadata": {
        "id": "Mhn0ApRr5Jj0"
      }
    },
    {
      "cell_type": "code",
      "source": [
        "cadastro = {'nome':[],'sexo':[], 'ano':[]}\n",
        "while True:\n",
        "  terminar = input('Deseja cadastrar uma pessoa? [S/N]: ')\n",
        "  if terminar.upper() in 'N':\n",
        "    break\n",
        "  if terminar.upper() not in 'S':\n",
        "    print('Digite S para SIM ou N para NÃO')\n",
        "    continue\n",
        "\n",
        "  nome = input('Qual o nome? ')\n",
        "  sexo = input('Qual o sexo? [M/F] ')\n",
        "  ano = int(input('Qual o ano de nascimento? '))\n",
        "  cadastro['nome'].append(nome)\n",
        "  cadastro['sexo'].append(sexo.upper())\n",
        "  cadastro['ano'].append(ano)\n",
        "\n",
        "\n"
      ],
      "metadata": {
        "colab": {
          "base_uri": "https://localhost:8080/"
        },
        "id": "tuvB9jJ_5VmS",
        "outputId": "749850ae-9b74-4602-b039-55928b869270"
      },
      "execution_count": null,
      "outputs": [
        {
          "output_type": "stream",
          "name": "stdout",
          "text": [
            "Deseja cadastrar uma pessoa? [S/N]: s\n",
            "Qual o nome? maria\n",
            "Qual o sexo? [M/F] f\n",
            "Qual o ano de nascimento? 098\n",
            "Deseja cadastrar uma pessoa? [S/N]: s\n",
            "Qual o nome? jose\n",
            "Qual o sexo? [M/F] m\n",
            "Qual o ano de nascimento? 290\n",
            "Deseja cadastrar uma pessoa? [S/N]: n\n",
            "nome\n",
            "nome: maria\n",
            "nome: jose\n",
            "sexo\n",
            "sexo: F\n",
            "sexo: M\n",
            "ano\n",
            "ano: 98\n",
            "ano: 290\n"
          ]
        }
      ]
    }
  ]
}