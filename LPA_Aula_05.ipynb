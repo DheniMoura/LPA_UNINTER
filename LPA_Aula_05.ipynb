{
  "nbformat": 4,
  "nbformat_minor": 0,
  "metadata": {
    "colab": {
      "name": "LPA - Aula 05.ipynb",
      "provenance": [],
      "collapsed_sections": [
        "sIA21USVstoN",
        "n2mXuNCusyr1"
      ],
      "authorship_tag": "ABX9TyMe8G81+tzXsNCMEpAkNBES",
      "include_colab_link": true
    },
    "kernelspec": {
      "name": "python3",
      "display_name": "Python 3"
    },
    "language_info": {
      "name": "python"
    }
  },
  "cells": [
    {
      "cell_type": "markdown",
      "metadata": {
        "id": "view-in-github",
        "colab_type": "text"
      },
      "source": [
        "<a href=\"https://colab.research.google.com/github/DheniMoura/LPA_UNINTER/blob/main/LPA_Aula_05.ipynb\" target=\"_parent\"><img src=\"https://colab.research.google.com/assets/colab-badge.svg\" alt=\"Open In Colab\"/></a>"
      ]
    },
    {
      "cell_type": "markdown",
      "source": [
        "#Funções"
      ],
      "metadata": {
        "id": "DDgjoUUMzjVY"
      }
    },
    {
      "cell_type": "markdown",
      "source": [
        "##Anotações da aula\n",
        "O ato de enviar um dado para uma função é chamado de *passagem de parâmetro*."
      ],
      "metadata": {
        "id": "H51aGQ_mzlUq"
      }
    },
    {
      "cell_type": "code",
      "source": [
        "def realce (s1):\n",
        "  print(\"-\" * 20)\n",
        "  print(s1)\n",
        "  print(\"-\" * 20)"
      ],
      "metadata": {
        "id": "KI_iAIfNzzcs"
      },
      "execution_count": 1,
      "outputs": []
    },
    {
      "cell_type": "code",
      "source": [
        "realce(\"MENU\")\n"
      ],
      "metadata": {
        "colab": {
          "base_uri": "https://localhost:8080/"
        },
        "id": "3YmjRrEg0S-S",
        "outputId": "284b47df-38d9-494c-bc7f-38de1618de6f"
      },
      "execution_count": 2,
      "outputs": [
        {
          "output_type": "stream",
          "name": "stdout",
          "text": [
            "--------------------\n",
            "MENU\n",
            "--------------------\n"
          ]
        }
      ]
    },
    {
      "cell_type": "markdown",
      "source": [
        "###parâmetros opcionais\n",
        "Podemos dar maior flexibilidade para as funções permitindo que nem sempre se use todos os parâmetros na chamada da função"
      ],
      "metadata": {
        "id": "Bk4Pub430r1U"
      }
    },
    {
      "cell_type": "code",
      "source": [
        "def soma3(x = 0, y = 0, z = 0):\n",
        "  res = x + y + z\n",
        "  print(res)"
      ],
      "metadata": {
        "id": "wZ-eClV504OE"
      },
      "execution_count": null,
      "outputs": []
    },
    {
      "cell_type": "code",
      "source": [
        "soma3(1, 2, 3)\n",
        "soma3(1,5)\n",
        "soma3()"
      ],
      "metadata": {
        "colab": {
          "base_uri": "https://localhost:8080/"
        },
        "id": "jefVCYdW1J2M",
        "outputId": "df0fc288-a356-4a0c-ad27-ce884d9f34e5"
      },
      "execution_count": null,
      "outputs": [
        {
          "output_type": "stream",
          "name": "stdout",
          "text": [
            "6\n",
            "6\n",
            "0\n"
          ]
        }
      ]
    },
    {
      "cell_type": "markdown",
      "source": [
        "###Exemplo\n",
        "Escreva uma rotina que crie uma borda ao redor de uma palavra para destacá-la como sendo um título. A rotina deve receber como parâmetro a palavra a ser destacada. O tamanho da caixa de texto deverá ser adaptável de acordo com o tamanho da palavra."
      ],
      "metadata": {
        "id": "uteeOOlh1m0a"
      }
    },
    {
      "cell_type": "code",
      "source": [
        "def destaque(titulo):\n",
        "  tam = len(titulo)\n",
        "  # Só imprimi se houver algum caractere\n",
        "  if tam:\n",
        "    print('+', '-' * tam, '+')\n",
        "    print('|', titulo, '|')\n",
        "    print('+', '-' * tam, '+')\n"
      ],
      "metadata": {
        "id": "oRpXuWiq15Iz"
      },
      "execution_count": null,
      "outputs": []
    },
    {
      "cell_type": "code",
      "source": [
        "destaque(\"Teste\")\n",
        "destaque(\"Carro do ovo\")\n",
        "destaque(\"Lógica de Programação e Algoritmo\")\n",
        "destaque(\"\")"
      ],
      "metadata": {
        "colab": {
          "base_uri": "https://localhost:8080/"
        },
        "id": "PPXQyoDB2baq",
        "outputId": "4a260a7e-6d36-4197-d531-c2b3167c47d0"
      },
      "execution_count": null,
      "outputs": [
        {
          "output_type": "stream",
          "name": "stdout",
          "text": [
            "+ ----- +\n",
            "| Teste |\n",
            "+ ----- +\n",
            "+ ------------ +\n",
            "| Carro do ovo |\n",
            "+ ------------ +\n",
            "+ --------------------------------- +\n",
            "| Lógica de Programação e Algoritmo |\n",
            "+ --------------------------------- +\n"
          ]
        }
      ]
    },
    {
      "cell_type": "markdown",
      "source": [
        "###Exercício 01\n",
        "Escreva uma rotina que crie um laço de repetição que faz uma contagem e imprime esta contagem na tela em uma só linha. Porém, como parâmetro, a função deve receber o valor inicial\n",
        "da contagem, o final, e o passo da iteração. Deixe os parâmetros inicial e de passo como opcionais. Você pode fazer o laço com for ou com while.\n",
        ">Dica: para realizar o print sem quebrar a linha, utilize um parâmetro opcional end='' da função print. Exemplo: print(x, end='')."
      ],
      "metadata": {
        "id": "WovPVdvA3NPh"
      }
    },
    {
      "cell_type": "code",
      "source": [
        "def contagem(f, i = 0, p = 1):\n",
        "  if (i < f):\n",
        "    for c in range(i, f + 1, p):\n",
        "      print(c, end='')\n",
        "  elif (i > f):\n",
        "    for c in range(i, f - 1, (p * (-1))):\n",
        "      print(c, end='')\n",
        "  else:\n",
        "    print('não é possível contar')\n",
        "print('\\n')"
      ],
      "metadata": {
        "colab": {
          "base_uri": "https://localhost:8080/"
        },
        "id": "kV3RC6la3Qwh",
        "outputId": "6a49a558-eb73-4fc8-b8df-e214e2de034d"
      },
      "execution_count": null,
      "outputs": [
        {
          "output_type": "stream",
          "name": "stdout",
          "text": [
            "\n",
            "\n"
          ]
        }
      ]
    },
    {
      "cell_type": "code",
      "source": [
        "contagem(1,5)"
      ],
      "metadata": {
        "colab": {
          "base_uri": "https://localhost:8080/"
        },
        "id": "Byx1o3Dy9WJO",
        "outputId": "f652b719-aa91-4ac1-a22b-e3e9a4b7fc07"
      },
      "execution_count": null,
      "outputs": [
        {
          "output_type": "stream",
          "name": "stdout",
          "text": [
            "54321"
          ]
        }
      ]
    },
    {
      "cell_type": "markdown",
      "source": [
        "###Exercício 02\n",
        "Escreva uma rotina que recebe três valores como parâmetro e coloque-os em ordem crescente, ou seja, o menor ao maior. Imprima na tela os três valores.\n",
        "Utilize condicionais de múltipla escolha e composta."
      ],
      "metadata": {
        "id": "Y3KsEf1o-ux0"
      }
    },
    {
      "cell_type": "code",
      "source": [
        "def ordemcresc(a = 0, b = 0, c = 0):\n",
        "  if a < b and a < c:\n",
        "    print(a, end=' ')\n",
        "    if b < c:\n",
        "      print(b, c)\n",
        "    else:\n",
        "      print(c, b)\n",
        "  if b < c and b < a:\n",
        "    print(b, end=' ')\n",
        "    if a < c:\n",
        "      print(a, c)\n",
        "    else:\n",
        "      print(c,a)\n",
        "  if c < a and c < b:\n",
        "    print(c, end=' ')\n",
        "    if b < a:\n",
        "      print(b, a)\n",
        "    else:\n",
        "      print(a, b)"
      ],
      "metadata": {
        "id": "djM3P1SQ-744"
      },
      "execution_count": null,
      "outputs": []
    },
    {
      "cell_type": "code",
      "source": [
        "def ordem(a = 0, b = 0, c = 0):\n",
        "  if a < b and a < c:\n",
        "    if b < c:\n",
        "      print('{} {} {}'.format(a,b,c))\n",
        "    else:\n",
        "      print('{} {} {}'.format(a,c,b))\n",
        "  if b < c and b < a:\n",
        "    if a < c:\n",
        "      print('{} {} {}'.format(b,a,c))\n",
        "    else:\n",
        "      print('{} {} {}'.format(b,c,a))\n",
        "  if c < a and c < b:\n",
        "    if b < a:\n",
        "      print('{} {} {}'.format(c,b,a))\n",
        "    else:\n",
        "      print('{} {} {}'.format(c,a,b))"
      ],
      "metadata": {
        "id": "TH2SPAbkBMKd"
      },
      "execution_count": null,
      "outputs": []
    },
    {
      "cell_type": "code",
      "source": [
        "ordemcresc(1,2,3)\n",
        "ordemcresc(2,3,1)\n",
        "ordemcresc(3,2,1)\n",
        "ordemcresc(1,3,2)\n",
        "ordemcresc(2,1,3)\n",
        "ordemcresc(3,1,2)"
      ],
      "metadata": {
        "colab": {
          "base_uri": "https://localhost:8080/"
        },
        "id": "BuyFYSu8AKTv",
        "outputId": "ea9538c5-efbc-4f02-c874-d48757115fe2"
      },
      "execution_count": null,
      "outputs": [
        {
          "output_type": "stream",
          "name": "stdout",
          "text": [
            "1 2 3\n",
            "1 2 3\n",
            "1 2 3\n",
            "1 2 3\n",
            "1 2 3\n",
            "1 2 3\n"
          ]
        }
      ]
    },
    {
      "cell_type": "code",
      "source": [
        "ordem(1,2,3)\n",
        "ordem(1,3,2)\n",
        "ordem(2,3,1)\n",
        "ordem(3,2,1)\n",
        "ordem(2,1,3)\n",
        "ordem(3,1,2)"
      ],
      "metadata": {
        "colab": {
          "base_uri": "https://localhost:8080/"
        },
        "id": "JDr08ztEBju3",
        "outputId": "f404c734-fc42-4364-fa9b-4d67e1e1bd83"
      },
      "execution_count": null,
      "outputs": [
        {
          "output_type": "stream",
          "name": "stdout",
          "text": [
            "1 2 3\n",
            "1 2 3\n",
            "1 2 3\n",
            "1 2 3\n",
            "1 2 3\n",
            "1 2 3\n"
          ]
        }
      ]
    },
    {
      "cell_type": "code",
      "source": [
        "a = int(input('Digite o valor 1: '))\n",
        "b = int(input('Digite o valor 2: '))\n",
        "c = int(input('Digite o valor 3: '))\n",
        "ordem(a, b, c)"
      ],
      "metadata": {
        "colab": {
          "base_uri": "https://localhost:8080/"
        },
        "id": "2q1KRu9gCM3I",
        "outputId": "3e9e64f3-ed35-485c-ac9e-829b4ee84c47"
      },
      "execution_count": null,
      "outputs": [
        {
          "output_type": "stream",
          "name": "stdout",
          "text": [
            "Digite o valor 1: 89\n",
            "Digite o valor 2: 55\n",
            "Digite o valor 3: 10\n",
            "10 55 89\n"
          ]
        }
      ]
    },
    {
      "cell_type": "markdown",
      "source": [
        "##Escopo de variáveis"
      ],
      "metadata": {
        "id": "5VQdjrZtLVEm"
      }
    },
    {
      "cell_type": "markdown",
      "source": [
        "###Exemplo "
      ],
      "metadata": {
        "id": "Cc4-Mq0ELdL4"
      }
    },
    {
      "cell_type": "code",
      "source": [
        "def comida():\n",
        "  ovos = 'variável local de comida'\n",
        "  print(ovos)\n",
        "\n",
        "def bacon():\n",
        "  ovos = 'variável local de bacon'\n",
        "  print(ovos)\n",
        "  comida()\n",
        "  print(ovos)\n",
        "\n",
        "#Programa principal\n",
        "ovos = 'variável global'\n",
        "print(ovos)\n",
        "print('Entrando na função bacon')\n",
        "bacon()\n",
        "print('Saindo da função bacon')\n",
        "print(ovos)"
      ],
      "metadata": {
        "colab": {
          "base_uri": "https://localhost:8080/"
        },
        "id": "-VvsJNtHLjb1",
        "outputId": "10d1eac3-a01d-433b-f1f7-81dfc369cb99"
      },
      "execution_count": null,
      "outputs": [
        {
          "output_type": "stream",
          "name": "stdout",
          "text": [
            "variável global\n",
            "Entrando na função bacon\n",
            "variável local de bacon\n",
            "variável local de comida\n",
            "variável local de bacon\n",
            "Saindo da função bacon\n",
            "variável global\n"
          ]
        }
      ]
    },
    {
      "cell_type": "markdown",
      "source": [
        "###Exemplo 02\n",
        "Utilizando o comando \"global\" dentro da função para que o valor definido dentro da função seja transferido para a variável global."
      ],
      "metadata": {
        "id": "142gNPoxM2po"
      }
    },
    {
      "cell_type": "code",
      "source": [
        "def comida():\n",
        "  global ovos\n",
        "  ovos = 'comida'\n",
        "\n",
        "# Programa principal\n",
        "ovos = 'variável global'\n",
        "print(ovos)\n",
        "comida()\n",
        "print(ovos)"
      ],
      "metadata": {
        "colab": {
          "base_uri": "https://localhost:8080/"
        },
        "id": "wxI0z2OSM5HF",
        "outputId": "a8854a90-151e-46ef-c31f-2ee9f68c8f0e"
      },
      "execution_count": null,
      "outputs": [
        {
          "output_type": "stream",
          "name": "stdout",
          "text": [
            "variável global\n",
            "comida\n"
          ]
        }
      ]
    },
    {
      "cell_type": "markdown",
      "source": [
        "###Resumo de escopo de variáveis\n",
        "* Um código em escopo global (programa principal), não pode usar nenhuma variável local.\n",
        "* Um código de escopo local (qualquer função criada ou pré-definida) pode acessar uma\n",
        "variável global.\n",
        "* Nenhum escopo local pode acessar as variáveis de outro escopo local.\n",
        "* Podemos ter diversas variáveis com o mesmo nome, desde que estejam em escopos\n",
        "distintos.\n",
        "* Caso tenhamos variáveis com o mesmo nome, uma em escopo global e outra em escopo\n",
        "local, no escopo local, a variável local terá prioridade e somente ela será manipulada.\n",
        "* Caso tenhamos variáveis com o mesmo nome, uma em escopo global e outra em escopo\n",
        "local, e quisermos manipular a variável global dentro da função local, precisamos usar a\n",
        "instrução global."
      ],
      "metadata": {
        "id": "LscqrvquN9zm"
      }
    },
    {
      "cell_type": "markdown",
      "source": [
        "##Retorno em funções"
      ],
      "metadata": {
        "id": "N-ZllOSoOzfn"
      }
    },
    {
      "cell_type": "markdown",
      "source": [
        "###Exemplo 01"
      ],
      "metadata": {
        "id": "wYf7BfYGO6za"
      }
    },
    {
      "cell_type": "code",
      "source": [
        "def soma3(x = 0,y = 0,z = 0):\n",
        "  res = x + y + z\n",
        "  return res"
      ],
      "metadata": {
        "id": "cPmIx3tcO6J4"
      },
      "execution_count": null,
      "outputs": []
    },
    {
      "cell_type": "code",
      "source": [
        "# Programa principal 01\n",
        "retornado = soma3(1, 10, 50)\n",
        "print(retornado)\n",
        "\n",
        "# Programa principal 02\n",
        "print(soma3(2,2))"
      ],
      "metadata": {
        "colab": {
          "base_uri": "https://localhost:8080/"
        },
        "id": "3lOPtscDPaZg",
        "outputId": "73285197-6d06-4026-d366-f611736e9b1c"
      },
      "execution_count": null,
      "outputs": [
        {
          "output_type": "stream",
          "name": "stdout",
          "text": [
            "61\n",
            "4\n"
          ]
        }
      ]
    },
    {
      "cell_type": "markdown",
      "source": [
        "###Exercicio 01\n",
        "Escreva uma função para validar uma string. Essa função recebe como parâmetro a string, o número mínimo e máximo de caracteres. Retorne verdadeiro se o tamanho da string estiver\n",
        "entre os valores de mínimo e máximo, e falso, caso contrário (Menezes, p. 169)."
      ],
      "metadata": {
        "id": "wU9025CCQPNF"
      }
    },
    {
      "cell_type": "code",
      "source": [
        "def validaString(pergunta, min, max):\n",
        "  s1 = input(pergunta)\n",
        "  tam = len(s1)\n",
        "  while((tam < min) or (tam > max)):\n",
        "    s1 = input(pergunta)\n",
        "    tam = len(s1)\n",
        "  return s1\n",
        "\n",
        "# Programa principal\n",
        "x = validaString('Digite uma string: ', 10, 30)\n",
        "print('Você digitou a string: \"{}\". \\nDado válido. Encerrando o programa...'.format(x))"
      ],
      "metadata": {
        "colab": {
          "base_uri": "https://localhost:8080/"
        },
        "id": "v8WfCtbrQknH",
        "outputId": "1565f640-20f3-4b85-aec2-8a0c4e07a1ae"
      },
      "execution_count": null,
      "outputs": [
        {
          "output_type": "stream",
          "name": "stdout",
          "text": [
            "Digite uma string: Rato\n",
            "Digite uma string: O rato roeu a roupa do rei\n",
            "Você digitou a string: \"O rato roeu a roupa do rei\". \n",
            "Dado válido. Encerrando o programa...\n"
          ]
        }
      ]
    },
    {
      "cell_type": "markdown",
      "source": [
        "###Ecercicio 02\n",
        ">Fatorial é um número inteiro positivo, representado por n!\n",
        "Calculamos a fatorial pela multiplicação desse número n por todos os seus antecessores até chegar em 1. Ainda, fatorial de 0! sempre será 1.\n",
        "\n",
        "Considerando a breve explicação sobre fatorial, escreva uma função que calcule o fatorial de um numero recebido como parâmetro e retorne o seu resultado. Faça uma validação dos\n",
        "dados por meio de outra função, permitindo que somente valores positivos sejam aceitos."
      ],
      "metadata": {
        "id": "hFvGIT3xQkIH"
      }
    },
    {
      "cell_type": "code",
      "source": [
        "# Código que calcula o fatorial de um número n\n",
        "n = int(input('fat: '))\n",
        "calc = 1\n",
        "for i in range(n, 1, -1):\n",
        "  calc = i * calc\n",
        "print('{}! = {}'.format(n, calc))"
      ],
      "metadata": {
        "colab": {
          "base_uri": "https://localhost:8080/"
        },
        "id": "W1ozvJu7Vv0e",
        "outputId": "31cd4c97-0e84-433f-f4a9-9ace4c17e270"
      },
      "execution_count": null,
      "outputs": [
        {
          "output_type": "stream",
          "name": "stdout",
          "text": [
            "fat: 5\n",
            "5! = 120\n"
          ]
        }
      ]
    },
    {
      "cell_type": "code",
      "source": [
        "#Teste 02\n",
        "# Função que valida um número, permitindo que somente valores positivos sejam aceitos\n",
        "def valida(v):\n",
        "  if v < 0:\n",
        "    return False\n",
        "  else:\n",
        "    return True\n",
        "    \n",
        "def fatorial():\n",
        "  global x\n",
        "  x = int(input('Digite um número: '))\n",
        "  if (valida(x)):\n",
        "    calc = 1\n",
        "    n = x\n",
        "    print('n = ', n)\n",
        "    for i in range(n, 1, -1):\n",
        "      calc = i * calc\n",
        "  return calc\n",
        "\n",
        "y = fatorial()\n",
        "print('{}! = {}'.format(x, y))"
      ],
      "metadata": {
        "colab": {
          "base_uri": "https://localhost:8080/"
        },
        "id": "QDLpplUHh_G7",
        "outputId": "760e8d7c-3466-49ea-b32b-ec35749da8cf"
      },
      "execution_count": null,
      "outputs": [
        {
          "output_type": "stream",
          "name": "stdout",
          "text": [
            "Digite um número: 6\n",
            "n =  6\n",
            "6! = 720\n"
          ]
        }
      ]
    },
    {
      "cell_type": "markdown",
      "source": [
        "###Exercicio 03\n",
        "Faça uma função que recebe dois valores inteiros e positivos como parâmetro. Calcule a soma dos n valores inteiro existentes entre eles, inclusive estes números (adaptado de Puga, p.117)."
      ],
      "metadata": {
        "id": "Lhl3II44ojJO"
      }
    },
    {
      "cell_type": "code",
      "source": [
        "def validacaoInteiroPositivo(pergunta):\n",
        "  global x\n",
        "  while True:\n",
        "    try:\n",
        "      x = int(input(pergunta))\n",
        "      if x >= 0:\n",
        "        break\n",
        "    except  ValueError:\n",
        "      print('Oops! Número inválido. Tente novamente...')\n",
        "    except:\n",
        "      print('Oops! Algo errado aconteceu...')\n",
        "    if int(x) < 0:\n",
        "      print('O número precisa ser inteiro e positivo')\n",
        "    continue\n",
        "  return x\n",
        "\n",
        "def somaDoIntervalo(a, b):\n",
        "  soma = 0\n",
        "  valor1 = int(a)\n",
        "  valor2 = int(b)\n",
        "  if valor1 < valor2:\n",
        "    for c in range(valor1, valor2 + 1, 1):\n",
        "      soma += c\n",
        "  if  valor1 > valor2:\n",
        "    for c in range(valor2, valor1 + 1, 1):\n",
        "      soma += c\n",
        "  if valor1 == valor2:\n",
        "    soma = valor1 + valor2\n",
        "  return soma\n",
        "\n",
        "\n",
        "# Programa principal\n",
        "a = validacaoInteiroPositivo('Digite um número: ')\n",
        "b = validacaoInteiroPositivo('Digite um número: ')\n",
        "somaIntervalo = somaDoIntervalo(a, b)\n",
        "print('A soma do intervalo entre {} e {} é: {}'.format(a, b, somaIntervalo))"
      ],
      "metadata": {
        "colab": {
          "base_uri": "https://localhost:8080/"
        },
        "id": "Kp3L3129Wj8d",
        "outputId": "29020b39-8e60-4577-a74f-c93af8e5d1c3"
      },
      "execution_count": null,
      "outputs": [
        {
          "output_type": "stream",
          "name": "stdout",
          "text": [
            "Digite um número: 1\n",
            "Digite um número: 100\n",
            "Valor1 = 1; Valor2 = 100\n",
            "A soma do intervalo entre 1 e 100 é: 5050\n"
          ]
        }
      ]
    },
    {
      "cell_type": "markdown",
      "source": [
        "###Validação de dados de entrada (inteiro e positivo com tratamento de excessões)"
      ],
      "metadata": {
        "id": "9aZq2ol1ahNc"
      }
    },
    {
      "cell_type": "code",
      "source": [
        "#Validação de dados de entrada (inteiro e positivo com tratamento de excessões)\n",
        "def validacao_inteiro_positivo(pergunta):\n",
        "  global x\n",
        "  while True:\n",
        "    try:\n",
        "      x = int(input(pergunta))\n",
        "      if x >= 0:\n",
        "        break\n",
        "    except  ValueError:\n",
        "      print('Oops! Número inválido. Tente novamente...')\n",
        "    except:\n",
        "      print('Oops! Algo errado aconteceu...')\n",
        "    if int(x) < 0:\n",
        "      print('O número precisa ser inteiro e positivo')\n",
        "    continue\n",
        "    \n",
        "# Programa principal\n",
        "validacao_inteiro_positivo('Digite um número: ')\n",
        "print(x)"
      ],
      "metadata": {
        "colab": {
          "base_uri": "https://localhost:8080/"
        },
        "id": "jDkHlHpB2odR",
        "outputId": "1b92181e-cf0a-4a8f-8977-e78d3262f4ae"
      },
      "execution_count": null,
      "outputs": [
        {
          "output_type": "stream",
          "name": "stdout",
          "text": [
            "Digite um número: 8\n",
            "8\n"
          ]
        }
      ]
    },
    {
      "cell_type": "markdown",
      "source": [
        "##Tratamento de exceções - Recursos avançados\n",
        "Exemplos"
      ],
      "metadata": {
        "id": "6s3x5BQ1pqdQ"
      }
    },
    {
      "cell_type": "markdown",
      "source": [
        "###Exemplo 01\n",
        "erro de tipo de dado incorreto"
      ],
      "metadata": {
        "id": "h5RsKNlGqObF"
      }
    },
    {
      "cell_type": "code",
      "source": [
        "while True:\n",
        "  try:\n",
        "    x = int(input('Por favor, digite um número inteiro: '))\n",
        "    break\n",
        "  except ValueError:\n",
        "    print('Oops! Número inválido. Tente novamente...')"
      ],
      "metadata": {
        "colab": {
          "base_uri": "https://localhost:8080/"
        },
        "id": "KHrjqqNEovZz",
        "outputId": "4e5a9ebd-1b9d-4bbe-dc8a-4e3f9da0671d"
      },
      "execution_count": null,
      "outputs": [
        {
          "name": "stdout",
          "output_type": "stream",
          "text": [
            "Por favor, digite um número inteiro: r\n",
            "Oops! Número inválido. Tente novamente...\n",
            "Por favor, digite um número inteiro: 9\n"
          ]
        }
      ]
    },
    {
      "cell_type": "markdown",
      "source": [
        "###Exemplo 02\n",
        "finally"
      ],
      "metadata": {
        "id": "6NR9icCoqYSE"
      }
    },
    {
      "cell_type": "code",
      "source": [
        "def div():\n",
        "  try:\n",
        "    num1 = int(input('Digite o número dividendo: '))\n",
        "    num2 = int(input('Digite o número divisor: '))\n",
        "    res = num1 / num2\n",
        "  except ZeroDivisionError:\n",
        "    print('Oops! Erro de divisão por zero...')\n",
        "  except: #Qualquer outro erro que aparecer\n",
        "    print('Algo de errado aconteceu...')\n",
        "  else:\n",
        "    return res\n",
        "  finally: # Sempre que tiver um \"finally\" depois do \"try\" ele(finally) será obrigatoriamente executado\n",
        "    print('Executará sempre!')\n",
        "\n",
        "# Programa principal\n",
        "print(div())"
      ],
      "metadata": {
        "colab": {
          "base_uri": "https://localhost:8080/"
        },
        "id": "k2oxRjooqbPm",
        "outputId": "577ad3a1-7984-4017-89ac-47d93473b41a"
      },
      "execution_count": null,
      "outputs": [
        {
          "output_type": "stream",
          "name": "stdout",
          "text": [
            "Digite o número dividendo: 8\n",
            "Digite o número divisor: 0\n",
            "Oops! Erro de divisão por zero...\n",
            "Executará sempre!\n",
            "None\n"
          ]
        }
      ]
    },
    {
      "cell_type": "markdown",
      "source": [
        "###Exemplo 03\n",
        "função como parâmetro de função"
      ],
      "metadata": {
        "id": "5zsti0wEsIKh"
      }
    },
    {
      "cell_type": "code",
      "source": [
        "def imprimeComCondicao(num,fcond):\n",
        "  if fcond(num):\n",
        "    print(num)\n",
        "\n",
        "def par(x):\n",
        "  return x % 2 == 0\n",
        "def impar(x):\n",
        "  return not par(x)\n",
        "\n",
        "# Programa principal\n",
        "imprimeComCondicao(5, impar)"
      ],
      "metadata": {
        "colab": {
          "base_uri": "https://localhost:8080/"
        },
        "id": "8C4n2Yy7sO-S",
        "outputId": "57de5a13-022e-46ee-a16f-e1cd37080e7e"
      },
      "execution_count": null,
      "outputs": [
        {
          "output_type": "stream",
          "name": "stdout",
          "text": [
            "5\n"
          ]
        }
      ]
    },
    {
      "cell_type": "markdown",
      "source": [
        "###Função Lambda\n",
        "São fuções mais simples, sem nome, chamadas de funções lambda.\n",
        ">Elas podem ser escretias em uma só linha de código e dentro do programa principal"
      ],
      "metadata": {
        "id": "ETfM_EJzvMpC"
      }
    },
    {
      "cell_type": "code",
      "source": [
        "res = lambda x: x * x\n",
        "print(res(3))"
      ],
      "metadata": {
        "colab": {
          "base_uri": "https://localhost:8080/"
        },
        "id": "5o0fpYnYvYJ8",
        "outputId": "68869320-f03e-45f1-b614-88c716787e68"
      },
      "execution_count": null,
      "outputs": [
        {
          "output_type": "stream",
          "name": "stdout",
          "text": [
            "9\n"
          ]
        }
      ]
    },
    {
      "cell_type": "code",
      "source": [
        "soma = lambda x, y: x + y\n",
        "print(soma(2,2))"
      ],
      "metadata": {
        "colab": {
          "base_uri": "https://localhost:8080/"
        },
        "id": "SPME4nhavoxm",
        "outputId": "c486ad87-0723-4e15-b8a5-e736beaf88b9"
      },
      "execution_count": null,
      "outputs": [
        {
          "output_type": "stream",
          "name": "stdout",
          "text": [
            "4\n"
          ]
        }
      ]
    }
  ]
}