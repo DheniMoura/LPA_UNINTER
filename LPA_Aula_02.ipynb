{
  "nbformat": 4,
  "nbformat_minor": 0,
  "metadata": {
    "colab": {
      "name": "LPA - Aula 02.ipynb",
      "provenance": [],
      "authorship_tag": "ABX9TyO9bLknFX2wmnsC1RAeIPr4",
      "include_colab_link": true
    },
    "kernelspec": {
      "name": "python3",
      "display_name": "Python 3"
    },
    "language_info": {
      "name": "python"
    }
  },
  "cells": [
    {
      "cell_type": "markdown",
      "metadata": {
        "id": "view-in-github",
        "colab_type": "text"
      },
      "source": [
        "<a href=\"https://colab.research.google.com/github/DheniMoura/LPA_UNINTER/blob/main/LPA_Aula_02.ipynb\" target=\"_parent\"><img src=\"https://colab.research.google.com/assets/colab-badge.svg\" alt=\"Open In Colab\"/></a>"
      ]
    },
    {
      "cell_type": "markdown",
      "source": [
        "Aula 02 da matéria Lógica de Programação e Algoritmos"
      ],
      "metadata": {
        "id": "7EjWRErW4LX5"
      }
    },
    {
      "cell_type": "markdown",
      "source": [
        "Ex. 02 - Desenvolva um algoritmo que solicite ao usuário uma quantidade de dias, de horas, de  minutos e de segundos. Calcule o total de segundos resultante e imprima na tela para o usuário. "
      ],
      "metadata": {
        "id": "DifU1iku6SD9"
      }
    },
    {
      "cell_type": "code",
      "source": [
        "d = int(input('Quantos dias? '))\n",
        "h = int(input('Quantas horas? '))\n",
        "m = int(input('Quantos minutos? '))\n",
        "s = int(input('Quantos segundos? '))\n",
        "total = s + (m * 60) + (h * 3600) + (d * 86400)\n",
        "print('O total de segundos calculados é: {}'.format(total))"
      ],
      "metadata": {
        "colab": {
          "base_uri": "https://localhost:8080/"
        },
        "id": "C9AbSblg4UyZ",
        "outputId": "bed0d8ec-72bd-4af1-9e6a-a8070f1cac27"
      },
      "execution_count": null,
      "outputs": [
        {
          "output_type": "stream",
          "name": "stdout",
          "text": [
            "Quantos dias? 5\n",
            "Quantas horas? 2\n",
            "Quantos minutos? 30\n",
            "Quantos segundos? 7\n",
            "O total de segundos calculados é: 441007\n"
          ]
        }
      ]
    },
    {
      "cell_type": "markdown",
      "source": [
        "Ex. 03 - Desenvolva um algoritmo que solicite ao usuário o preço de um produto e um percentual de desconto a ser aplicado a ele. Calcule e exiba o valor do desconto e o preço final do produto."
      ],
      "metadata": {
        "id": "3oG9HJg26lWj"
      }
    },
    {
      "cell_type": "code",
      "source": [
        "p = float(input('Digite o preço original do produto: '))\n",
        "d = float(input('Digite o percentual de desconto: (0% a 100%: '))\n",
        "vd = p * (d / 100)\n",
        "pf = p - vd\n",
        "print('Valor do desconto: R$%.2f' % vd)\n",
        "print('Preço final: R$%.2f' % pf)"
      ],
      "metadata": {
        "colab": {
          "base_uri": "https://localhost:8080/"
        },
        "id": "pl5AqAM_6Q_p",
        "outputId": "94f79fbf-9be0-4619-f0a0-1fd3c69c814a"
      },
      "execution_count": null,
      "outputs": [
        {
          "output_type": "stream",
          "name": "stdout",
          "text": [
            "Digite o preço original do produto: 100\n",
            "Digite o percentual de desconto: (0% a 100%: 10\n",
            "Valor do desconto: R$10.00\n",
            "Preço final: R$90.00\n"
          ]
        }
      ]
    },
    {
      "cell_type": "markdown",
      "source": [
        "Crie uma variável de String que receba uma frase qualquer.\n",
        "Crie uma segunda variável, agora contendo a metade da string digitada.\n",
        "Imprima na tela somente os dois últimos caracteres da segunda variável do tipo string"
      ],
      "metadata": {
        "id": "LteBKbR3TYqv"
      }
    },
    {
      "cell_type": "code",
      "source": [
        "v1 = str(input('Digite uma frase: '))\n",
        "tam = len(v1)\n",
        "v2 = v1[:int(tam/2)]\n",
        "print(v2[-2:])"
      ],
      "metadata": {
        "colab": {
          "base_uri": "https://localhost:8080/"
        },
        "id": "qLEXIkKNTcOf",
        "outputId": "41cf4724-7475-4995-9115-da2f12d790fc"
      },
      "execution_count": null,
      "outputs": [
        {
          "output_type": "stream",
          "name": "stdout",
          "text": [
            "Digite uma frase: O rato roeu a roupa do rei de Roma\n",
            "ou\n"
          ]
        }
      ]
    }
  ]
}