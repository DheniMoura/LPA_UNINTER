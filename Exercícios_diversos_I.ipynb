{
  "nbformat": 4,
  "nbformat_minor": 0,
  "metadata": {
    "colab": {
      "name": "Exercícios diversos I.ipynb",
      "provenance": [],
      "authorship_tag": "ABX9TyNoxddW8Lvf5BnENrH0HFVs",
      "include_colab_link": true
    },
    "kernelspec": {
      "name": "python3",
      "display_name": "Python 3"
    },
    "language_info": {
      "name": "python"
    }
  },
  "cells": [
    {
      "cell_type": "markdown",
      "metadata": {
        "id": "view-in-github",
        "colab_type": "text"
      },
      "source": [
        "<a href=\"https://colab.research.google.com/github/DheniMoura/LPA_UNINTER/blob/main/Exerc%C3%ADcios_diversos_I.ipynb\" target=\"_parent\"><img src=\"https://colab.research.google.com/assets/colab-badge.svg\" alt=\"Open In Colab\"/></a>"
      ]
    },
    {
      "cell_type": "markdown",
      "source": [
        "##Ex. 01\n",
        "Faça um programa que leia a validade das informações:\n",
        "* a. Idade: entre 0 e 150;\n",
        "* b. Salário: maior que 0;\n",
        "* c. Sexo: M, F ou Outro;\n",
        "\n",
        "O programa deve imprimir uma mensagem de erro para cada informação\n",
        "inválida."
      ],
      "metadata": {
        "id": "CId13PGDtHOv"
      }
    },
    {
      "cell_type": "code",
      "execution_count": 15,
      "metadata": {
        "id": "aj0frlphtB-F",
        "colab": {
          "base_uri": "https://localhost:8080/"
        },
        "outputId": "a5d9bc46-1237-440b-c78c-733aafca9b96"
      },
      "outputs": [
        {
          "output_type": "stream",
          "name": "stdout",
          "text": [
            "Digite sua idade: 80\n",
            "Idade: 80\n",
            "Digite seu salário: R$5000\n",
            "Salário: R$5000.00\n",
            "Sexo: (M, F ou OutroF\n",
            "Sexo: (F)\n"
          ]
        }
      ],
      "source": [
        "while True:\n",
        "  try:\n",
        "    i = int(input('Digite sua idade: '))\n",
        "  except ValueError:\n",
        "    print('Oops! Número inválido. Tente novamente...')\n",
        "  except:\n",
        "      print('Oops! Algo errado aconteceu...') \n",
        "  if i <= 0 or i >= 150:\n",
        "    print('Idade fora intervalo permitido (0 a 150 anos) digite novamente')    \n",
        "  else:\n",
        "    print(f'Idade: {i}')\n",
        "    break\n",
        "\n",
        "while True:\n",
        "  try:\n",
        "    sl = float(input('Digite seu salário: R$'))   \n",
        "  except ValueError:\n",
        "    print('Oops! Número inválido. Tente novamente...')\n",
        "  except:\n",
        "    print('Oops! Algo errado aconteceu...')\n",
        "  if sl <= 0:\n",
        "    print('O salário precisa ser maior de zero, digite novamente ')\n",
        "    continue\n",
        "  else:\n",
        "    print(f'Salário: R${sl:.2f}')\n",
        "    break\n",
        "\n",
        "while True:\n",
        "  try:\n",
        "    sx = str(input('Sexo: (M, F ou Outro '))\n",
        "  except:\n",
        "    print('Oops! Algo errado aconteceu... digite novament')\n",
        "  if (sx.upper() == 'M') or (sx.upper() == 'F') or (sx.upper() == 'OUTRO'):\n",
        "    print(f'Sexo: ({sx})')\n",
        "    break\n",
        "  else:\n",
        "    continue"
      ]
    },
    {
      "cell_type": "markdown",
      "source": [
        "##Ex. 02\n",
        "Vamos fazer um programa para verificar quem é o assassino de um crime.\n",
        "\n",
        "Para descobrir o assassino, a polícia faz um pequeno questionário com 5\n",
        "perguntas onde a resposta só pode ser sim ou não:\n",
        "\n",
        "* a. Mora perto da vítima?\n",
        "* b. Já trabalhou com a vítima?\n",
        "* c. Telefonou para a vítima?\n",
        "* d. Esteve no local do crime?\n",
        "* e. Devia para a vítima?\n",
        "\n",
        "Cada resposta sim dá um ponto para o suspeito. A polícia considera que os\n",
        "suspeitos com 5 pontos são os assassinos, com 4 a 3 pontos são cúmplices e\n",
        "2 pontos são apenas suspeitos, necessitando outras investigações. Valores\n",
        "iguais ou abaixo de 1 são liberados."
      ],
      "metadata": {
        "id": "XHHoiPQJtSGX"
      }
    },
    {
      "cell_type": "code",
      "source": [
        ""
      ],
      "metadata": {
        "id": "ZTwM3Jg_tijZ"
      },
      "execution_count": null,
      "outputs": []
    },
    {
      "cell_type": "markdown",
      "source": [
        "##Ex.03\n",
        "Suponha que uma pessoa possa se aposentar pelo INSS caso atenda alguma das situações abaixo: \n",
        "• É do gênero masculino, possui pelo menos 65 anos e pelo menos 10 anos de contribuição.\n",
        "• É do gênero masculino, possui pelo menos 63 anos e pelo menos 15 anos de contribuição.\n",
        "• É do gênero feminino, possui pelo menos 63 anos e pelo menos 10 anos de contribuição. \n",
        "• É do gênero feminino, possui pelo menos 61 anos e pelo menos 15 anos de contribuição. \n",
        "Crie um programa que leia um caractere (‘M’ ou ‘F’), que representa o gênero de um indivíduo, e dois inteiros, que representam a idade e o tempo de contribuição. O programa deverá então imprimir “Aposentável” se o indivíduo atender uma das situações acima. Caso contrário, o programa deverá imprimir “Não Aposentável”."
      ],
      "metadata": {
        "id": "qhtyTtg_SfE9"
      }
    },
    {
      "cell_type": "code",
      "source": [
        ""
      ],
      "metadata": {
        "id": "Vuc3KEDCSiw1"
      },
      "execution_count": null,
      "outputs": []
    }
  ]
}